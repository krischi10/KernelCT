{
 "cells": [
  {
   "cell_type": "code",
   "execution_count": null,
   "id": "d8b9c2b0",
   "metadata": {},
   "outputs": [],
   "source": [
    "# This command can be used to install the required packages for this project.\n",
    "#!pip install -r ../requirements.txt"
   ]
  },
  {
   "cell_type": "code",
   "execution_count": null,
   "id": "5642e451",
   "metadata": {},
   "outputs": [],
   "source": [
    "# Add the parent directory of 'KernelCT' to sys.path\n",
    "\n",
    "import sys\n",
    "sys.path.append('..')"
   ]
  },
  {
   "cell_type": "code",
   "execution_count": null,
   "id": "6c9fad3d",
   "metadata": {},
   "outputs": [],
   "source": [
    "# Import necessary packages/modules\n",
    "import numpy as np\n",
    "from KernelCT.object import Object\n",
    "from KernelCT import utilities, phantom"
   ]
  },
  {
   "cell_type": "code",
   "execution_count": null,
   "id": "7b3ec2c7",
   "metadata": {},
   "outputs": [],
   "source": [
    "# Setup\n",
    "\n",
    "## Define phatom\n",
    "phantom_type = 'smooth_phantom'\n",
    "\n",
    "## Generate pixel grid\n",
    "x_max = 1\n",
    "y_max = 1\n",
    "grid_size = [256, 256]\n",
    "X, Y = utilities.generate_pixel_grid(x_max, y_max, grid_size)\n",
    "phantom_eval = phantom.eval_phantom(X, Y, phantom_type)\n",
    "\n",
    "# Create object\n",
    "geometry = 'pbg'\n",
    "r_max = np.sqrt(2)\n",
    "sample_size = 150\n",
    "\n",
    "r, a = utilities.generate_lineset(geometry, r_max, sample_size)\n",
    "Radon = phantom.eval_phantom_radon(r, a, phantom_type)\n",
    "obj = Object(r, a, Radon)"
   ]
  },
  {
   "cell_type": "code",
   "execution_count": null,
   "id": "29b115d0",
   "metadata": {},
   "outputs": [],
   "source": [
    "# Create FBP reconstruction image\n",
    "filter_type = 'shepp_logan'\n",
    "spline_type = 'cubic'\n",
    "eval_radius = np.sqrt(2)\n",
    "\n",
    "reconstruction = obj.fbp_reconstruct(X, Y, filter_type=filter_type,\n",
    "                                        spline_type=spline_type, eval_radius=eval_radius)\n",
    "\n",
    "rmse = utilities.reconstruction_error(phantom_eval, reconstruction)"
   ]
  },
  {
   "cell_type": "code",
   "execution_count": null,
   "id": "72dc5a10",
   "metadata": {},
   "outputs": [],
   "source": [
    "# Plot original phantom and reconstruction\n",
    "import matplotlib.pyplot as plt\n",
    "\n",
    "plt.figure(figsize=(12, 6))\n",
    "\n",
    "plt.subplot(1, 2, 1)\n",
    "plt.imshow(phantom_eval, cmap='gray')\n",
    "plt.axis('off')\n",
    "plt.title('Original Phantom')\n",
    "\n",
    "plt.subplot(1, 2, 2)\n",
    "plt.imshow(reconstruction, cmap='gray')\n",
    "plt.axis('off')\n",
    "plt.title(f'FBP Reconstruction - RMSE: {rmse:.4f}')\n",
    "\n",
    "plt.show()"
   ]
  }
 ],
 "metadata": {
  "kernelspec": {
   "display_name": ".venv",
   "language": "python",
   "name": "python3"
  },
  "language_info": {
   "codemirror_mode": {
    "name": "ipython",
    "version": 3
   },
   "file_extension": ".py",
   "mimetype": "text/x-python",
   "name": "python",
   "nbconvert_exporter": "python",
   "pygments_lexer": "ipython3",
   "version": "3.13.5"
  }
 },
 "nbformat": 4,
 "nbformat_minor": 5
}
