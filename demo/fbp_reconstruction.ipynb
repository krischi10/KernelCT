{
 "cells": [
  {
   "cell_type": "code",
   "execution_count": 5,
   "id": "d8b9c2b0",
   "metadata": {},
   "outputs": [],
   "source": [
    "# This command can be used to install the required packages for this project.\n",
    "#!pip install -r ../requirements.txt"
   ]
  },
  {
   "cell_type": "code",
   "execution_count": 6,
   "id": "5642e451",
   "metadata": {},
   "outputs": [],
   "source": [
    "# Add the parent directory of 'KernelCT' to sys.path\n",
    "\n",
    "import sys\n",
    "sys.path.append('..')"
   ]
  },
  {
   "cell_type": "code",
   "execution_count": 7,
   "id": "6c9fad3d",
   "metadata": {},
   "outputs": [],
   "source": [
    "# Import necessary packages/modules\n",
    "import numpy as np\n",
    "from KernelCT import fbp, object, utilities"
   ]
  }
 ],
 "metadata": {
  "kernelspec": {
   "display_name": ".venv",
   "language": "python",
   "name": "python3"
  },
  "language_info": {
   "codemirror_mode": {
    "name": "ipython",
    "version": 3
   },
   "file_extension": ".py",
   "mimetype": "text/x-python",
   "name": "python",
   "nbconvert_exporter": "python",
   "pygments_lexer": "ipython3",
   "version": "3.13.5"
  }
 },
 "nbformat": 4,
 "nbformat_minor": 5
}
