{
 "cells": [
  {
   "cell_type": "code",
   "execution_count": null,
   "id": "d8b9c2b0",
   "metadata": {},
   "outputs": [
    {
     "name": "stdout",
     "output_type": "stream",
     "text": [
      "Requirement already satisfied: numpy==2.2.3 in /Users/kristof/Projects/KernelCT/.venv/lib/python3.13/site-packages (from -r ../requirements.txt (line 1)) (2.2.3)\n",
      "Requirement already satisfied: scipy==1.15.2 in /Users/kristof/Projects/KernelCT/.venv/lib/python3.13/site-packages (from -r ../requirements.txt (line 2)) (1.15.2)\n",
      "Requirement already satisfied: scikit-image==0.25.2 in /Users/kristof/Projects/KernelCT/.venv/lib/python3.13/site-packages (from -r ../requirements.txt (line 3)) (0.25.2)\n",
      "Requirement already satisfied: tqdm==4.67.1 in /Users/kristof/Projects/KernelCT/.venv/lib/python3.13/site-packages (from -r ../requirements.txt (line 4)) (4.67.1)\n",
      "Requirement already satisfied: scikit-learn==1.7.0 in /Users/kristof/Projects/KernelCT/.venv/lib/python3.13/site-packages (from -r ../requirements.txt (line 5)) (1.7.0)\n",
      "Requirement already satisfied: ipykernel==6.29.5 in /Users/kristof/Projects/KernelCT/.venv/lib/python3.13/site-packages (from -r ../requirements.txt (line 6)) (6.29.5)\n",
      "Requirement already satisfied: networkx>=3.0 in /Users/kristof/Projects/KernelCT/.venv/lib/python3.13/site-packages (from scikit-image==0.25.2->-r ../requirements.txt (line 3)) (3.4.2)\n",
      "Requirement already satisfied: pillow>=10.1 in /Users/kristof/Projects/KernelCT/.venv/lib/python3.13/site-packages (from scikit-image==0.25.2->-r ../requirements.txt (line 3)) (11.1.0)\n",
      "Requirement already satisfied: imageio!=2.35.0,>=2.33 in /Users/kristof/Projects/KernelCT/.venv/lib/python3.13/site-packages (from scikit-image==0.25.2->-r ../requirements.txt (line 3)) (2.37.0)\n",
      "Requirement already satisfied: tifffile>=2022.8.12 in /Users/kristof/Projects/KernelCT/.venv/lib/python3.13/site-packages (from scikit-image==0.25.2->-r ../requirements.txt (line 3)) (2025.2.18)\n",
      "Requirement already satisfied: packaging>=21 in /Users/kristof/Projects/KernelCT/.venv/lib/python3.13/site-packages (from scikit-image==0.25.2->-r ../requirements.txt (line 3)) (24.2)\n",
      "Requirement already satisfied: lazy-loader>=0.4 in /Users/kristof/Projects/KernelCT/.venv/lib/python3.13/site-packages (from scikit-image==0.25.2->-r ../requirements.txt (line 3)) (0.4)\n",
      "Requirement already satisfied: joblib>=1.2.0 in /Users/kristof/Projects/KernelCT/.venv/lib/python3.13/site-packages (from scikit-learn==1.7.0->-r ../requirements.txt (line 5)) (1.5.1)\n",
      "Requirement already satisfied: threadpoolctl>=3.1.0 in /Users/kristof/Projects/KernelCT/.venv/lib/python3.13/site-packages (from scikit-learn==1.7.0->-r ../requirements.txt (line 5)) (3.6.0)\n",
      "Requirement already satisfied: appnope in /Users/kristof/Projects/KernelCT/.venv/lib/python3.13/site-packages (from ipykernel==6.29.5->-r ../requirements.txt (line 6)) (0.1.4)\n",
      "Requirement already satisfied: comm>=0.1.1 in /Users/kristof/Projects/KernelCT/.venv/lib/python3.13/site-packages (from ipykernel==6.29.5->-r ../requirements.txt (line 6)) (0.2.2)\n",
      "Requirement already satisfied: debugpy>=1.6.5 in /Users/kristof/Projects/KernelCT/.venv/lib/python3.13/site-packages (from ipykernel==6.29.5->-r ../requirements.txt (line 6)) (1.8.14)\n",
      "Requirement already satisfied: ipython>=7.23.1 in /Users/kristof/Projects/KernelCT/.venv/lib/python3.13/site-packages (from ipykernel==6.29.5->-r ../requirements.txt (line 6)) (9.3.0)\n",
      "Requirement already satisfied: jupyter-client>=6.1.12 in /Users/kristof/Projects/KernelCT/.venv/lib/python3.13/site-packages (from ipykernel==6.29.5->-r ../requirements.txt (line 6)) (8.6.3)\n",
      "Requirement already satisfied: jupyter-core!=5.0.*,>=4.12 in /Users/kristof/Projects/KernelCT/.venv/lib/python3.13/site-packages (from ipykernel==6.29.5->-r ../requirements.txt (line 6)) (5.8.1)\n",
      "Requirement already satisfied: matplotlib-inline>=0.1 in /Users/kristof/Projects/KernelCT/.venv/lib/python3.13/site-packages (from ipykernel==6.29.5->-r ../requirements.txt (line 6)) (0.1.7)\n",
      "Requirement already satisfied: nest-asyncio in /Users/kristof/Projects/KernelCT/.venv/lib/python3.13/site-packages (from ipykernel==6.29.5->-r ../requirements.txt (line 6)) (1.6.0)\n",
      "Requirement already satisfied: psutil in /Users/kristof/Projects/KernelCT/.venv/lib/python3.13/site-packages (from ipykernel==6.29.5->-r ../requirements.txt (line 6)) (7.0.0)\n",
      "Requirement already satisfied: pyzmq>=24 in /Users/kristof/Projects/KernelCT/.venv/lib/python3.13/site-packages (from ipykernel==6.29.5->-r ../requirements.txt (line 6)) (27.0.0)\n",
      "Requirement already satisfied: tornado>=6.1 in /Users/kristof/Projects/KernelCT/.venv/lib/python3.13/site-packages (from ipykernel==6.29.5->-r ../requirements.txt (line 6)) (6.5.1)\n",
      "Requirement already satisfied: traitlets>=5.4.0 in /Users/kristof/Projects/KernelCT/.venv/lib/python3.13/site-packages (from ipykernel==6.29.5->-r ../requirements.txt (line 6)) (5.14.3)\n",
      "Requirement already satisfied: decorator in /Users/kristof/Projects/KernelCT/.venv/lib/python3.13/site-packages (from ipython>=7.23.1->ipykernel==6.29.5->-r ../requirements.txt (line 6)) (5.2.1)\n",
      "Requirement already satisfied: ipython-pygments-lexers in /Users/kristof/Projects/KernelCT/.venv/lib/python3.13/site-packages (from ipython>=7.23.1->ipykernel==6.29.5->-r ../requirements.txt (line 6)) (1.1.1)\n",
      "Requirement already satisfied: jedi>=0.16 in /Users/kristof/Projects/KernelCT/.venv/lib/python3.13/site-packages (from ipython>=7.23.1->ipykernel==6.29.5->-r ../requirements.txt (line 6)) (0.19.2)\n",
      "Requirement already satisfied: pexpect>4.3 in /Users/kristof/Projects/KernelCT/.venv/lib/python3.13/site-packages (from ipython>=7.23.1->ipykernel==6.29.5->-r ../requirements.txt (line 6)) (4.9.0)\n",
      "Requirement already satisfied: prompt_toolkit<3.1.0,>=3.0.41 in /Users/kristof/Projects/KernelCT/.venv/lib/python3.13/site-packages (from ipython>=7.23.1->ipykernel==6.29.5->-r ../requirements.txt (line 6)) (3.0.51)\n",
      "Requirement already satisfied: pygments>=2.4.0 in /Users/kristof/Projects/KernelCT/.venv/lib/python3.13/site-packages (from ipython>=7.23.1->ipykernel==6.29.5->-r ../requirements.txt (line 6)) (2.19.2)\n",
      "Requirement already satisfied: stack_data in /Users/kristof/Projects/KernelCT/.venv/lib/python3.13/site-packages (from ipython>=7.23.1->ipykernel==6.29.5->-r ../requirements.txt (line 6)) (0.6.3)\n",
      "Requirement already satisfied: wcwidth in /Users/kristof/Projects/KernelCT/.venv/lib/python3.13/site-packages (from prompt_toolkit<3.1.0,>=3.0.41->ipython>=7.23.1->ipykernel==6.29.5->-r ../requirements.txt (line 6)) (0.2.13)\n",
      "Requirement already satisfied: parso<0.9.0,>=0.8.4 in /Users/kristof/Projects/KernelCT/.venv/lib/python3.13/site-packages (from jedi>=0.16->ipython>=7.23.1->ipykernel==6.29.5->-r ../requirements.txt (line 6)) (0.8.4)\n",
      "Requirement already satisfied: python-dateutil>=2.8.2 in /Users/kristof/Projects/KernelCT/.venv/lib/python3.13/site-packages (from jupyter-client>=6.1.12->ipykernel==6.29.5->-r ../requirements.txt (line 6)) (2.9.0.post0)\n",
      "Requirement already satisfied: platformdirs>=2.5 in /Users/kristof/Projects/KernelCT/.venv/lib/python3.13/site-packages (from jupyter-core!=5.0.*,>=4.12->ipykernel==6.29.5->-r ../requirements.txt (line 6)) (4.3.8)\n",
      "Requirement already satisfied: ptyprocess>=0.5 in /Users/kristof/Projects/KernelCT/.venv/lib/python3.13/site-packages (from pexpect>4.3->ipython>=7.23.1->ipykernel==6.29.5->-r ../requirements.txt (line 6)) (0.7.0)\n",
      "Requirement already satisfied: six>=1.5 in /Users/kristof/Projects/KernelCT/.venv/lib/python3.13/site-packages (from python-dateutil>=2.8.2->jupyter-client>=6.1.12->ipykernel==6.29.5->-r ../requirements.txt (line 6)) (1.17.0)\n",
      "Requirement already satisfied: executing>=1.2.0 in /Users/kristof/Projects/KernelCT/.venv/lib/python3.13/site-packages (from stack_data->ipython>=7.23.1->ipykernel==6.29.5->-r ../requirements.txt (line 6)) (2.2.0)\n",
      "Requirement already satisfied: asttokens>=2.1.0 in /Users/kristof/Projects/KernelCT/.venv/lib/python3.13/site-packages (from stack_data->ipython>=7.23.1->ipykernel==6.29.5->-r ../requirements.txt (line 6)) (3.0.0)\n",
      "Requirement already satisfied: pure-eval in /Users/kristof/Projects/KernelCT/.venv/lib/python3.13/site-packages (from stack_data->ipython>=7.23.1->ipykernel==6.29.5->-r ../requirements.txt (line 6)) (0.2.3)\n"
     ]
    }
   ],
   "source": [
    "# This command can be used to install the required packages for this project.\n",
    "#!pip install -r ../requirements.txt"
   ]
  },
  {
   "cell_type": "code",
   "execution_count": null,
   "id": "5642e451",
   "metadata": {},
   "outputs": [],
   "source": [
    "# Add the parent directory of 'KernelCT' to sys.path\n",
    "\n",
    "import sys\n",
    "sys.path.append('..')"
   ]
  },
  {
   "cell_type": "code",
   "execution_count": 16,
   "id": "6c9fad3d",
   "metadata": {},
   "outputs": [],
   "source": [
    "# Import necessary packages/modules\n",
    "import numpy as np\n",
    "from KernelCT import fbp, object, utilities"
   ]
  }
 ],
 "metadata": {
  "kernelspec": {
   "display_name": ".venv",
   "language": "python",
   "name": "python3"
  },
  "language_info": {
   "codemirror_mode": {
    "name": "ipython",
    "version": 3
   },
   "file_extension": ".py",
   "mimetype": "text/x-python",
   "name": "python",
   "nbconvert_exporter": "python",
   "pygments_lexer": "ipython3",
   "version": "3.13.5"
  }
 },
 "nbformat": 4,
 "nbformat_minor": 5
}
