{
 "cells": [
  {
   "cell_type": "code",
   "execution_count": null,
   "id": "59149778",
   "metadata": {},
   "outputs": [],
   "source": [
    "# This command can be used to install the required packages for this project.\n",
    "# !pip install -r ../requirements.txt"
   ]
  },
  {
   "cell_type": "code",
   "execution_count": null,
   "id": "6630421e",
   "metadata": {},
   "outputs": [],
   "source": [
    "# Add the parent directory of 'KernelCT' to sys.path\n",
    "\n",
    "import sys\n",
    "sys.path.append('..')"
   ]
  },
  {
   "cell_type": "code",
   "execution_count": null,
   "id": "79db2b3d",
   "metadata": {},
   "outputs": [],
   "source": [
    "# Import necessary packages/modules\n",
    "import numpy as np\n",
    "from KernelCT.object import Object\n",
    "from KernelCT import utilities, phantom\n",
    "from KernelCT import kernel_reconstruction as kr\n",
    "from KernelCT.weighted_kernels import WeightedGaussian"
   ]
  },
  {
   "cell_type": "code",
   "execution_count": null,
   "id": "99f5f750",
   "metadata": {},
   "outputs": [],
   "source": [
    "# Setup\n",
    "\n",
    "## Define phatom\n",
    "phantom_type = 'shepp_logan'\n",
    "\n",
    "## Generate pixel grid\n",
    "x_max = 1\n",
    "y_max = 1\n",
    "grid_size = [256, 256]\n",
    "X, Y = utilities.generate_pixel_grid(x_max, y_max, grid_size)\n",
    "phantom_eval = phantom.eval_phantom(X, Y, phantom_type)\n",
    "\n",
    "## Create object\n",
    "geometry = 'random'\n",
    "r_max = np.sqrt(2)\n",
    "sample_size = 10000\n",
    "\n",
    "r, a = utilities.generate_lineset(geometry, r_max, sample_size)\n",
    "Radon = phantom.eval_phantom_radon(r, a, phantom_type)\n",
    "obj = Object(r, a, Radon)\n",
    "\n",
    "## Parameters for greedy selection\n",
    "kernel = WeightedGaussian()\n",
    "greedy_method = 'beta_greedy'\n",
    "steps = 3\n",
    "steps_size = 500\n",
    "beta = 0.5\n",
    "c_newton = None\n",
    "V_newton = None\n",
    "pwr_func_vals = None\n",
    "res = None\n",
    "\n",
    "## Init kernel reconstruction\n",
    "interpolant = kr.KernelInterpolant()\n",
    "eval_repr = None"
   ]
  },
  {
   "cell_type": "code",
   "execution_count": null,
   "id": "3f3083c9",
   "metadata": {},
   "outputs": [],
   "source": [
    "# Init figure of reconstructions\n",
    "import matplotlib.pyplot as plt\n",
    "\n",
    "fig = plt.figure(figsize=(24, 6))\n",
    "\n",
    "# plot original phantom\n",
    "ax = fig.add_subplot(1, steps + 1, 1)\n",
    "ax.imshow(phantom_eval, cmap='gray', origin='lower')\n",
    "ax.set_title('Original Phantom')\n",
    "ax.axis('off')\n",
    "\n",
    "# Run greedy kernel thinning\n",
    "for i in range(steps):\n",
    "    c_newton, V_newton, pwr_func_vals, res = obj.kernel_thinning(\n",
    "        kernel, greedy_method, max_iter=steps_size, beta=beta,\n",
    "        c_newton=c_newton, V_newton=V_newton, pwr_func_vals=pwr_func_vals,\n",
    "        res=res\n",
    "    )\n",
    "\n",
    "    interpolant.fit(\n",
    "        obj, kernel, basis='standard', c_newton=c_newton, V_newton=V_newton\n",
    "    )\n",
    "\n",
    "    reconstruction, eval_repr = interpolant.predict(\n",
    "        obj, X, Y, kernel, prev_eval_repr=None\n",
    "    )\n",
    "\n",
    "    reconstruction_error = utilities.reconstruction_error(\n",
    "        phantom_eval, reconstruction, metric='rmse'\n",
    "    )\n",
    "\n",
    "    ax = fig.add_subplot(1, steps + 1, i + 2)\n",
    "    ax.imshow(reconstruction, cmap='gray', origin='lower')\n",
    "    ax.set_title(f'{(i+1)*steps_size} data points - RMSE: {reconstruction_error:.4f}')\n",
    "    ax.axis('off')\n",
    "\n",
    "plt.show()"
   ]
  }
 ],
 "metadata": {
  "kernelspec": {
   "display_name": ".venv",
   "language": "python",
   "name": "python3"
  },
  "language_info": {
   "codemirror_mode": {
    "name": "ipython",
    "version": 3
   },
   "file_extension": ".py",
   "mimetype": "text/x-python",
   "name": "python",
   "nbconvert_exporter": "python",
   "pygments_lexer": "ipython3",
   "version": "3.13.5"
  }
 },
 "nbformat": 4,
 "nbformat_minor": 5
}
